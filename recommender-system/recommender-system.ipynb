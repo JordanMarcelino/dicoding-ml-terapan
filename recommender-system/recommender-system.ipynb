{
 "cells": [
  {
   "cell_type": "code",
   "execution_count": 1,
   "metadata": {},
   "outputs": [],
   "source": [
    "import pandas as pd"
   ]
  },
  {
   "cell_type": "code",
   "execution_count": 3,
   "metadata": {},
   "outputs": [
    {
     "name": "stdout",
     "output_type": "stream",
     "text": [
      "Jumlah data pembayaran yang diterima restoran:  615\n",
      "Jumlah data masakan pada restoran:  769\n",
      "Jumlah data waktu buka restoran:  694\n",
      "Jumlah data lokasi restoran:  130\n",
      "Jumlah data masakan pengguna:  138\n",
      "Jumlah data profil pengguna:  138\n",
      "Jumlah data penilaian yang diberikan pengguna:  138\n",
      "Jumlah data penilaian restoran:  130\n"
     ]
    }
   ],
   "source": [
    "accepts = pd.read_csv(\"data/chefmozaccepts.csv\")\n",
    "cuisine = pd.read_csv(\"data/chefmozcuisine.csv\")\n",
    "hours = pd.read_csv(\"data/chefmozhours4.csv\")\n",
    "parking = pd.read_csv(\"data/chefmozparking.csv\")\n",
    "geo = pd.read_csv(\"data/geoplaces2.csv\", encoding=\"ISO-8859-1\")\n",
    "usercuisine = pd.read_csv(\"data/usercuisine.csv\")\n",
    "payment = pd.read_csv(\"data/userpayment.csv\")\n",
    "profile = pd.read_csv(\"data/userprofile.csv\")\n",
    "rating = pd.read_csv(\"data/rating_final.csv\")\n",
    "\n",
    "print(\"Jumlah data pembayaran yang diterima restoran: \", len(accepts.placeID.unique()))\n",
    "print(\"Jumlah data masakan pada restoran: \", len(cuisine.placeID.unique()))\n",
    "print(\"Jumlah data waktu buka restoran: \", len(hours.placeID.unique()))\n",
    "print(\"Jumlah data lokasi restoran: \", len(geo.placeID.unique()))\n",
    "print(\"Jumlah data masakan pengguna: \", len(usercuisine.userID.unique()))\n",
    "print(\"Jumlah data profil pengguna: \", len(profile.userID.unique()))\n",
    "print(\"Jumlah data penilaian yang diberikan pengguna: \", len(rating.userID.unique()))\n",
    "print(\"Jumlah data penilaian restoran: \", len(rating.placeID.unique()))"
   ]
  },
  {
   "cell_type": "code",
   "execution_count": null,
   "metadata": {},
   "outputs": [],
   "source": []
  }
 ],
 "metadata": {
  "kernelspec": {
   "display_name": "base",
   "language": "python",
   "name": "python3"
  },
  "language_info": {
   "codemirror_mode": {
    "name": "ipython",
    "version": 3
   },
   "file_extension": ".py",
   "mimetype": "text/x-python",
   "name": "python",
   "nbconvert_exporter": "python",
   "pygments_lexer": "ipython3",
   "version": "3.9.12"
  }
 },
 "nbformat": 4,
 "nbformat_minor": 2
}
